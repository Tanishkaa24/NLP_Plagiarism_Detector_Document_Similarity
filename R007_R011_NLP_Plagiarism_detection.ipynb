{
  "nbformat": 4,
  "nbformat_minor": 0,
  "metadata": {
    "colab": {
      "provenance": []
    },
    "kernelspec": {
      "name": "python3",
      "display_name": "Python 3"
    },
    "language_info": {
      "name": "python"
    }
  },
  "cells": [
    {
      "cell_type": "markdown",
      "source": [
        "Title: Plagiarism Detector and Document Similarity\n",
        "\n",
        "Class: MBATech AI\n",
        "\n",
        "Batch: 1\n",
        "\n",
        "Subject: NLP\n",
        "\n",
        "Team Members: R007 Bhagyashree Birje, R011 Tanishkaa Chaturvedi\n",
        "\n",
        "Faculty: Ami Munshi"
      ],
      "metadata": {
        "id": "9xlvYciz7zR0"
      }
    },
    {
      "cell_type": "code",
      "source": [
        "import nltk\n",
        "from nltk.corpus import stopwords\n",
        "from nltk.tokenize import word_tokenize\n",
        "nltk.download(\"all\")"
      ],
      "metadata": {
        "colab": {
          "base_uri": "https://localhost:8080/"
        },
        "id": "43snl8I0pN8L",
        "outputId": "1635506f-7886-465c-96a7-78a0896c3be4"
      },
      "execution_count": null,
      "outputs": [
        {
          "output_type": "stream",
          "name": "stderr",
          "text": [
            "[nltk_data] Downloading collection 'all'\n",
            "[nltk_data]    | \n",
            "[nltk_data]    | Downloading package abc to /root/nltk_data...\n",
            "[nltk_data]    |   Package abc is already up-to-date!\n",
            "[nltk_data]    | Downloading package alpino to /root/nltk_data...\n",
            "[nltk_data]    |   Package alpino is already up-to-date!\n",
            "[nltk_data]    | Downloading package averaged_perceptron_tagger to\n",
            "[nltk_data]    |     /root/nltk_data...\n",
            "[nltk_data]    |   Package averaged_perceptron_tagger is already up-\n",
            "[nltk_data]    |       to-date!\n",
            "[nltk_data]    | Downloading package averaged_perceptron_tagger_ru to\n",
            "[nltk_data]    |     /root/nltk_data...\n",
            "[nltk_data]    |   Package averaged_perceptron_tagger_ru is already\n",
            "[nltk_data]    |       up-to-date!\n",
            "[nltk_data]    | Downloading package basque_grammars to\n",
            "[nltk_data]    |     /root/nltk_data...\n",
            "[nltk_data]    |   Package basque_grammars is already up-to-date!\n",
            "[nltk_data]    | Downloading package bcp47 to /root/nltk_data...\n",
            "[nltk_data]    |   Package bcp47 is already up-to-date!\n",
            "[nltk_data]    | Downloading package biocreative_ppi to\n",
            "[nltk_data]    |     /root/nltk_data...\n",
            "[nltk_data]    |   Package biocreative_ppi is already up-to-date!\n",
            "[nltk_data]    | Downloading package bllip_wsj_no_aux to\n",
            "[nltk_data]    |     /root/nltk_data...\n",
            "[nltk_data]    |   Package bllip_wsj_no_aux is already up-to-date!\n",
            "[nltk_data]    | Downloading package book_grammars to\n",
            "[nltk_data]    |     /root/nltk_data...\n",
            "[nltk_data]    |   Package book_grammars is already up-to-date!\n",
            "[nltk_data]    | Downloading package brown to /root/nltk_data...\n",
            "[nltk_data]    |   Package brown is already up-to-date!\n",
            "[nltk_data]    | Downloading package brown_tei to /root/nltk_data...\n",
            "[nltk_data]    |   Package brown_tei is already up-to-date!\n",
            "[nltk_data]    | Downloading package cess_cat to /root/nltk_data...\n",
            "[nltk_data]    |   Package cess_cat is already up-to-date!\n",
            "[nltk_data]    | Downloading package cess_esp to /root/nltk_data...\n",
            "[nltk_data]    |   Package cess_esp is already up-to-date!\n",
            "[nltk_data]    | Downloading package chat80 to /root/nltk_data...\n",
            "[nltk_data]    |   Package chat80 is already up-to-date!\n",
            "[nltk_data]    | Downloading package city_database to\n",
            "[nltk_data]    |     /root/nltk_data...\n",
            "[nltk_data]    |   Package city_database is already up-to-date!\n",
            "[nltk_data]    | Downloading package cmudict to /root/nltk_data...\n",
            "[nltk_data]    |   Package cmudict is already up-to-date!\n",
            "[nltk_data]    | Downloading package comparative_sentences to\n",
            "[nltk_data]    |     /root/nltk_data...\n",
            "[nltk_data]    |   Package comparative_sentences is already up-to-\n",
            "[nltk_data]    |       date!\n",
            "[nltk_data]    | Downloading package comtrans to /root/nltk_data...\n",
            "[nltk_data]    |   Package comtrans is already up-to-date!\n",
            "[nltk_data]    | Downloading package conll2000 to /root/nltk_data...\n",
            "[nltk_data]    |   Package conll2000 is already up-to-date!\n",
            "[nltk_data]    | Downloading package conll2002 to /root/nltk_data...\n",
            "[nltk_data]    |   Package conll2002 is already up-to-date!\n",
            "[nltk_data]    | Downloading package conll2007 to /root/nltk_data...\n",
            "[nltk_data]    |   Package conll2007 is already up-to-date!\n",
            "[nltk_data]    | Downloading package crubadan to /root/nltk_data...\n",
            "[nltk_data]    |   Package crubadan is already up-to-date!\n",
            "[nltk_data]    | Downloading package dependency_treebank to\n",
            "[nltk_data]    |     /root/nltk_data...\n",
            "[nltk_data]    |   Package dependency_treebank is already up-to-date!\n",
            "[nltk_data]    | Downloading package dolch to /root/nltk_data...\n",
            "[nltk_data]    |   Package dolch is already up-to-date!\n",
            "[nltk_data]    | Downloading package europarl_raw to\n",
            "[nltk_data]    |     /root/nltk_data...\n",
            "[nltk_data]    |   Package europarl_raw is already up-to-date!\n",
            "[nltk_data]    | Downloading package extended_omw to\n",
            "[nltk_data]    |     /root/nltk_data...\n",
            "[nltk_data]    |   Package extended_omw is already up-to-date!\n",
            "[nltk_data]    | Downloading package floresta to /root/nltk_data...\n",
            "[nltk_data]    |   Package floresta is already up-to-date!\n",
            "[nltk_data]    | Downloading package framenet_v15 to\n",
            "[nltk_data]    |     /root/nltk_data...\n",
            "[nltk_data]    |   Package framenet_v15 is already up-to-date!\n",
            "[nltk_data]    | Downloading package framenet_v17 to\n",
            "[nltk_data]    |     /root/nltk_data...\n",
            "[nltk_data]    |   Package framenet_v17 is already up-to-date!\n",
            "[nltk_data]    | Downloading package gazetteers to /root/nltk_data...\n",
            "[nltk_data]    |   Package gazetteers is already up-to-date!\n",
            "[nltk_data]    | Downloading package genesis to /root/nltk_data...\n",
            "[nltk_data]    |   Package genesis is already up-to-date!\n",
            "[nltk_data]    | Downloading package gutenberg to /root/nltk_data...\n",
            "[nltk_data]    |   Package gutenberg is already up-to-date!\n",
            "[nltk_data]    | Downloading package ieer to /root/nltk_data...\n",
            "[nltk_data]    |   Package ieer is already up-to-date!\n",
            "[nltk_data]    | Downloading package inaugural to /root/nltk_data...\n",
            "[nltk_data]    |   Package inaugural is already up-to-date!\n",
            "[nltk_data]    | Downloading package indian to /root/nltk_data...\n",
            "[nltk_data]    |   Package indian is already up-to-date!\n",
            "[nltk_data]    | Downloading package jeita to /root/nltk_data...\n",
            "[nltk_data]    |   Package jeita is already up-to-date!\n",
            "[nltk_data]    | Downloading package kimmo to /root/nltk_data...\n",
            "[nltk_data]    |   Package kimmo is already up-to-date!\n",
            "[nltk_data]    | Downloading package knbc to /root/nltk_data...\n",
            "[nltk_data]    |   Package knbc is already up-to-date!\n",
            "[nltk_data]    | Downloading package large_grammars to\n",
            "[nltk_data]    |     /root/nltk_data...\n",
            "[nltk_data]    |   Package large_grammars is already up-to-date!\n",
            "[nltk_data]    | Downloading package lin_thesaurus to\n",
            "[nltk_data]    |     /root/nltk_data...\n",
            "[nltk_data]    |   Package lin_thesaurus is already up-to-date!\n",
            "[nltk_data]    | Downloading package mac_morpho to /root/nltk_data...\n",
            "[nltk_data]    |   Package mac_morpho is already up-to-date!\n",
            "[nltk_data]    | Downloading package machado to /root/nltk_data...\n",
            "[nltk_data]    |   Package machado is already up-to-date!\n",
            "[nltk_data]    | Downloading package masc_tagged to /root/nltk_data...\n",
            "[nltk_data]    |   Package masc_tagged is already up-to-date!\n",
            "[nltk_data]    | Downloading package maxent_ne_chunker to\n",
            "[nltk_data]    |     /root/nltk_data...\n",
            "[nltk_data]    |   Package maxent_ne_chunker is already up-to-date!\n",
            "[nltk_data]    | Downloading package maxent_treebank_pos_tagger to\n",
            "[nltk_data]    |     /root/nltk_data...\n",
            "[nltk_data]    |   Package maxent_treebank_pos_tagger is already up-\n",
            "[nltk_data]    |       to-date!\n",
            "[nltk_data]    | Downloading package moses_sample to\n",
            "[nltk_data]    |     /root/nltk_data...\n",
            "[nltk_data]    |   Package moses_sample is already up-to-date!\n",
            "[nltk_data]    | Downloading package movie_reviews to\n",
            "[nltk_data]    |     /root/nltk_data...\n",
            "[nltk_data]    |   Package movie_reviews is already up-to-date!\n",
            "[nltk_data]    | Downloading package mte_teip5 to /root/nltk_data...\n",
            "[nltk_data]    |   Package mte_teip5 is already up-to-date!\n",
            "[nltk_data]    | Downloading package mwa_ppdb to /root/nltk_data...\n",
            "[nltk_data]    |   Package mwa_ppdb is already up-to-date!\n",
            "[nltk_data]    | Downloading package names to /root/nltk_data...\n",
            "[nltk_data]    |   Package names is already up-to-date!\n",
            "[nltk_data]    | Downloading package nombank.1.0 to /root/nltk_data...\n",
            "[nltk_data]    |   Package nombank.1.0 is already up-to-date!\n",
            "[nltk_data]    | Downloading package nonbreaking_prefixes to\n",
            "[nltk_data]    |     /root/nltk_data...\n",
            "[nltk_data]    |   Package nonbreaking_prefixes is already up-to-date!\n",
            "[nltk_data]    | Downloading package nps_chat to /root/nltk_data...\n",
            "[nltk_data]    |   Package nps_chat is already up-to-date!\n",
            "[nltk_data]    | Downloading package omw to /root/nltk_data...\n",
            "[nltk_data]    |   Package omw is already up-to-date!\n",
            "[nltk_data]    | Downloading package omw-1.4 to /root/nltk_data...\n",
            "[nltk_data]    |   Package omw-1.4 is already up-to-date!\n",
            "[nltk_data]    | Downloading package opinion_lexicon to\n",
            "[nltk_data]    |     /root/nltk_data...\n",
            "[nltk_data]    |   Package opinion_lexicon is already up-to-date!\n",
            "[nltk_data]    | Downloading package panlex_swadesh to\n",
            "[nltk_data]    |     /root/nltk_data...\n",
            "[nltk_data]    |   Package panlex_swadesh is already up-to-date!\n",
            "[nltk_data]    | Downloading package paradigms to /root/nltk_data...\n",
            "[nltk_data]    |   Package paradigms is already up-to-date!\n",
            "[nltk_data]    | Downloading package pe08 to /root/nltk_data...\n",
            "[nltk_data]    |   Package pe08 is already up-to-date!\n",
            "[nltk_data]    | Downloading package perluniprops to\n",
            "[nltk_data]    |     /root/nltk_data...\n",
            "[nltk_data]    |   Package perluniprops is already up-to-date!\n",
            "[nltk_data]    | Downloading package pil to /root/nltk_data...\n",
            "[nltk_data]    |   Package pil is already up-to-date!\n",
            "[nltk_data]    | Downloading package pl196x to /root/nltk_data...\n",
            "[nltk_data]    |   Package pl196x is already up-to-date!\n",
            "[nltk_data]    | Downloading package porter_test to /root/nltk_data...\n",
            "[nltk_data]    |   Package porter_test is already up-to-date!\n",
            "[nltk_data]    | Downloading package ppattach to /root/nltk_data...\n",
            "[nltk_data]    |   Package ppattach is already up-to-date!\n",
            "[nltk_data]    | Downloading package problem_reports to\n",
            "[nltk_data]    |     /root/nltk_data...\n",
            "[nltk_data]    |   Package problem_reports is already up-to-date!\n",
            "[nltk_data]    | Downloading package product_reviews_1 to\n",
            "[nltk_data]    |     /root/nltk_data...\n",
            "[nltk_data]    |   Package product_reviews_1 is already up-to-date!\n",
            "[nltk_data]    | Downloading package product_reviews_2 to\n",
            "[nltk_data]    |     /root/nltk_data...\n",
            "[nltk_data]    |   Package product_reviews_2 is already up-to-date!\n",
            "[nltk_data]    | Downloading package propbank to /root/nltk_data...\n",
            "[nltk_data]    |   Package propbank is already up-to-date!\n",
            "[nltk_data]    | Downloading package pros_cons to /root/nltk_data...\n",
            "[nltk_data]    |   Package pros_cons is already up-to-date!\n",
            "[nltk_data]    | Downloading package ptb to /root/nltk_data...\n",
            "[nltk_data]    |   Package ptb is already up-to-date!\n",
            "[nltk_data]    | Downloading package punkt to /root/nltk_data...\n",
            "[nltk_data]    |   Package punkt is already up-to-date!\n",
            "[nltk_data]    | Downloading package qc to /root/nltk_data...\n",
            "[nltk_data]    |   Package qc is already up-to-date!\n",
            "[nltk_data]    | Downloading package reuters to /root/nltk_data...\n",
            "[nltk_data]    |   Package reuters is already up-to-date!\n",
            "[nltk_data]    | Downloading package rslp to /root/nltk_data...\n",
            "[nltk_data]    |   Package rslp is already up-to-date!\n",
            "[nltk_data]    | Downloading package rte to /root/nltk_data...\n",
            "[nltk_data]    |   Package rte is already up-to-date!\n",
            "[nltk_data]    | Downloading package sample_grammars to\n",
            "[nltk_data]    |     /root/nltk_data...\n",
            "[nltk_data]    |   Package sample_grammars is already up-to-date!\n",
            "[nltk_data]    | Downloading package semcor to /root/nltk_data...\n",
            "[nltk_data]    |   Package semcor is already up-to-date!\n",
            "[nltk_data]    | Downloading package senseval to /root/nltk_data...\n",
            "[nltk_data]    |   Package senseval is already up-to-date!\n",
            "[nltk_data]    | Downloading package sentence_polarity to\n",
            "[nltk_data]    |     /root/nltk_data...\n",
            "[nltk_data]    |   Package sentence_polarity is already up-to-date!\n",
            "[nltk_data]    | Downloading package sentiwordnet to\n",
            "[nltk_data]    |     /root/nltk_data...\n",
            "[nltk_data]    |   Package sentiwordnet is already up-to-date!\n",
            "[nltk_data]    | Downloading package shakespeare to /root/nltk_data...\n",
            "[nltk_data]    |   Package shakespeare is already up-to-date!\n",
            "[nltk_data]    | Downloading package sinica_treebank to\n",
            "[nltk_data]    |     /root/nltk_data...\n",
            "[nltk_data]    |   Package sinica_treebank is already up-to-date!\n",
            "[nltk_data]    | Downloading package smultron to /root/nltk_data...\n",
            "[nltk_data]    |   Package smultron is already up-to-date!\n",
            "[nltk_data]    | Downloading package snowball_data to\n",
            "[nltk_data]    |     /root/nltk_data...\n",
            "[nltk_data]    |   Package snowball_data is already up-to-date!\n",
            "[nltk_data]    | Downloading package spanish_grammars to\n",
            "[nltk_data]    |     /root/nltk_data...\n",
            "[nltk_data]    |   Package spanish_grammars is already up-to-date!\n",
            "[nltk_data]    | Downloading package state_union to /root/nltk_data...\n",
            "[nltk_data]    |   Package state_union is already up-to-date!\n",
            "[nltk_data]    | Downloading package stopwords to /root/nltk_data...\n",
            "[nltk_data]    |   Package stopwords is already up-to-date!\n",
            "[nltk_data]    | Downloading package subjectivity to\n",
            "[nltk_data]    |     /root/nltk_data...\n",
            "[nltk_data]    |   Package subjectivity is already up-to-date!\n",
            "[nltk_data]    | Downloading package swadesh to /root/nltk_data...\n",
            "[nltk_data]    |   Package swadesh is already up-to-date!\n",
            "[nltk_data]    | Downloading package switchboard to /root/nltk_data...\n",
            "[nltk_data]    |   Package switchboard is already up-to-date!\n",
            "[nltk_data]    | Downloading package tagsets to /root/nltk_data...\n",
            "[nltk_data]    |   Package tagsets is already up-to-date!\n",
            "[nltk_data]    | Downloading package timit to /root/nltk_data...\n",
            "[nltk_data]    |   Package timit is already up-to-date!\n",
            "[nltk_data]    | Downloading package toolbox to /root/nltk_data...\n",
            "[nltk_data]    |   Package toolbox is already up-to-date!\n",
            "[nltk_data]    | Downloading package treebank to /root/nltk_data...\n",
            "[nltk_data]    |   Package treebank is already up-to-date!\n",
            "[nltk_data]    | Downloading package twitter_samples to\n",
            "[nltk_data]    |     /root/nltk_data...\n",
            "[nltk_data]    |   Package twitter_samples is already up-to-date!\n",
            "[nltk_data]    | Downloading package udhr to /root/nltk_data...\n",
            "[nltk_data]    |   Package udhr is already up-to-date!\n",
            "[nltk_data]    | Downloading package udhr2 to /root/nltk_data...\n",
            "[nltk_data]    |   Package udhr2 is already up-to-date!\n",
            "[nltk_data]    | Downloading package unicode_samples to\n",
            "[nltk_data]    |     /root/nltk_data...\n",
            "[nltk_data]    |   Package unicode_samples is already up-to-date!\n",
            "[nltk_data]    | Downloading package universal_tagset to\n",
            "[nltk_data]    |     /root/nltk_data...\n",
            "[nltk_data]    |   Package universal_tagset is already up-to-date!\n",
            "[nltk_data]    | Downloading package universal_treebanks_v20 to\n",
            "[nltk_data]    |     /root/nltk_data...\n",
            "[nltk_data]    |   Package universal_treebanks_v20 is already up-to-\n",
            "[nltk_data]    |       date!\n",
            "[nltk_data]    | Downloading package vader_lexicon to\n",
            "[nltk_data]    |     /root/nltk_data...\n",
            "[nltk_data]    |   Package vader_lexicon is already up-to-date!\n",
            "[nltk_data]    | Downloading package verbnet to /root/nltk_data...\n",
            "[nltk_data]    |   Package verbnet is already up-to-date!\n",
            "[nltk_data]    | Downloading package verbnet3 to /root/nltk_data...\n",
            "[nltk_data]    |   Package verbnet3 is already up-to-date!\n",
            "[nltk_data]    | Downloading package webtext to /root/nltk_data...\n",
            "[nltk_data]    |   Package webtext is already up-to-date!\n",
            "[nltk_data]    | Downloading package wmt15_eval to /root/nltk_data...\n",
            "[nltk_data]    |   Package wmt15_eval is already up-to-date!\n",
            "[nltk_data]    | Downloading package word2vec_sample to\n",
            "[nltk_data]    |     /root/nltk_data...\n",
            "[nltk_data]    |   Package word2vec_sample is already up-to-date!\n",
            "[nltk_data]    | Downloading package wordnet to /root/nltk_data...\n",
            "[nltk_data]    |   Package wordnet is already up-to-date!\n",
            "[nltk_data]    | Downloading package wordnet2021 to /root/nltk_data...\n",
            "[nltk_data]    |   Package wordnet2021 is already up-to-date!\n",
            "[nltk_data]    | Downloading package wordnet2022 to /root/nltk_data...\n",
            "[nltk_data]    |   Package wordnet2022 is already up-to-date!\n",
            "[nltk_data]    | Downloading package wordnet31 to /root/nltk_data...\n",
            "[nltk_data]    |   Package wordnet31 is already up-to-date!\n",
            "[nltk_data]    | Downloading package wordnet_ic to /root/nltk_data...\n",
            "[nltk_data]    |   Package wordnet_ic is already up-to-date!\n",
            "[nltk_data]    | Downloading package words to /root/nltk_data...\n",
            "[nltk_data]    |   Package words is already up-to-date!\n",
            "[nltk_data]    | Downloading package ycoe to /root/nltk_data...\n",
            "[nltk_data]    |   Package ycoe is already up-to-date!\n",
            "[nltk_data]    | \n",
            "[nltk_data]  Done downloading collection all\n"
          ]
        },
        {
          "output_type": "execute_result",
          "data": {
            "text/plain": [
              "True"
            ]
          },
          "metadata": {},
          "execution_count": 326
        }
      ]
    },
    {
      "cell_type": "code",
      "source": [
        "sent1=\"Plagiarism is a serious academic offense and can result in severe consequences for students. It is crucial for students to understand what constitutes plagiarism and how to avoid it. Plagiarism occurs when a person uses someone else's ideas, words, or work without proper attribution. To avoid plagiarism, always give credit to the original source through proper citations and references. Academic integrity is essential, and students should strive to produce original work to maintain their credibility.\"\n",
        "sent2=\"Academic integrity is a cornerstone of the educational system, and plagiarism is a grave transgression that can lead to significant repercussions for students. It is imperative that students have a clear grasp of what constitutes plagiarism and the means to circumvent it. Plagiarism arises when an individual appropriates another person's concepts, language, or creations without duly acknowledging their source. To sidestep plagiarism, it is paramount to consistently attribute the original work through appropriate citations and references. Upholding academic integrity is not just a requirement; it is a fundamental principle, and students must endeavor to create authentic content to preserve their own academic standing.\""
      ],
      "metadata": {
        "id": "ZuKjFCWqg-8J"
      },
      "execution_count": null,
      "outputs": []
    },
    {
      "cell_type": "code",
      "execution_count": null,
      "metadata": {
        "id": "VxvpE6bonXHc"
      },
      "outputs": [],
      "source": [
        "#sent1=\"there exists a road down south!!!   , i like sleeping\"\n",
        "#sent2=\"My name is b!hagyashree, I am @@from mumbai and I enjoy sleeping\""
      ]
    },
    {
      "cell_type": "code",
      "source": [
        "from nltk.stem.lancaster import LancasterStemmer\n",
        "from nltk.stem.porter import PorterStemmer\n",
        "from nltk.stem.snowball import SnowballStemmer\n",
        "import string\n",
        "import re\n"
      ],
      "metadata": {
        "id": "I3K96cWaWqmw"
      },
      "execution_count": null,
      "outputs": []
    },
    {
      "cell_type": "code",
      "source": [
        "def cleaning(text):\n",
        "  text=re.sub(\"(http\\S+)\", \"\", text)\n",
        "  text=re.sub(\"(\\d+)\", \"\", text)\n",
        "  text=re.sub(\"(\\n+)\", \"\", text)\n",
        "  text=re.sub(\"(\\s){2,}\", \" \", text)\n",
        "  text=re.sub(\"([^a-zA-Z\\s])\", \"\", text)\n",
        "  text=re.sub(r'[^\\w\\s]', '', text)\n",
        "  return text\n",
        "\n"
      ],
      "metadata": {
        "id": "T1qfCurYWypm"
      },
      "execution_count": null,
      "outputs": []
    },
    {
      "cell_type": "code",
      "source": [
        "sent1=cleaning(sent1)\n",
        "sent2=cleaning(sent2)"
      ],
      "metadata": {
        "id": "EQJbbh5aXiDb"
      },
      "execution_count": null,
      "outputs": []
    },
    {
      "cell_type": "code",
      "source": [
        "s1list=word_tokenize(sent1)\n",
        "s2list=word_tokenize(sent2)"
      ],
      "metadata": {
        "id": "qRuVYnZho2EA"
      },
      "execution_count": null,
      "outputs": []
    },
    {
      "cell_type": "code",
      "source": [
        "s1list"
      ],
      "metadata": {
        "colab": {
          "base_uri": "https://localhost:8080/"
        },
        "id": "oYtklsXVp7-q",
        "outputId": "1c335727-d63e-45fa-b123-2783fe33779d"
      },
      "execution_count": null,
      "outputs": [
        {
          "output_type": "execute_result",
          "data": {
            "text/plain": [
              "['Plagiarism',\n",
              " 'is',\n",
              " 'a',\n",
              " 'serious',\n",
              " 'academic',\n",
              " 'offense',\n",
              " 'and',\n",
              " 'can',\n",
              " 'result',\n",
              " 'in',\n",
              " 'severe',\n",
              " 'consequences',\n",
              " 'for',\n",
              " 'students',\n",
              " 'It',\n",
              " 'is',\n",
              " 'crucial',\n",
              " 'for',\n",
              " 'students',\n",
              " 'to',\n",
              " 'understand',\n",
              " 'what',\n",
              " 'constitutes',\n",
              " 'plagiarism',\n",
              " 'and',\n",
              " 'how',\n",
              " 'to',\n",
              " 'avoid',\n",
              " 'it',\n",
              " 'Plagiarism',\n",
              " 'occurs',\n",
              " 'when',\n",
              " 'a',\n",
              " 'person',\n",
              " 'uses',\n",
              " 'someone',\n",
              " 'elses',\n",
              " 'ideas',\n",
              " 'words',\n",
              " 'or',\n",
              " 'work',\n",
              " 'without',\n",
              " 'proper',\n",
              " 'attribution',\n",
              " 'To',\n",
              " 'avoid',\n",
              " 'plagiarism',\n",
              " 'always',\n",
              " 'give',\n",
              " 'credit',\n",
              " 'to',\n",
              " 'the',\n",
              " 'original',\n",
              " 'source',\n",
              " 'through',\n",
              " 'proper',\n",
              " 'citations',\n",
              " 'and',\n",
              " 'references',\n",
              " 'Academic',\n",
              " 'integrity',\n",
              " 'is',\n",
              " 'essential',\n",
              " 'and',\n",
              " 'students',\n",
              " 'should',\n",
              " 'strive',\n",
              " 'to',\n",
              " 'produce',\n",
              " 'original',\n",
              " 'work',\n",
              " 'to',\n",
              " 'maintain',\n",
              " 'their',\n",
              " 'credibility']"
            ]
          },
          "metadata": {},
          "execution_count": 333
        }
      ]
    },
    {
      "cell_type": "code",
      "source": [
        "sw=stopwords.words('english')\n"
      ],
      "metadata": {
        "id": "4Bh-sPGqp-8u"
      },
      "execution_count": null,
      "outputs": []
    },
    {
      "cell_type": "code",
      "source": [
        "s1stop={w for w in s1list if not w in sw}\n",
        "s2stop={w for w in s2list if not w in sw}"
      ],
      "metadata": {
        "id": "Ugap5knvqH9L"
      },
      "execution_count": null,
      "outputs": []
    },
    {
      "cell_type": "code",
      "source": [
        "type(s1stop)"
      ],
      "metadata": {
        "colab": {
          "base_uri": "https://localhost:8080/"
        },
        "id": "S_evSb5ebror",
        "outputId": "156b43c5-24e1-4a32-ae58-66af076d4950"
      },
      "execution_count": null,
      "outputs": [
        {
          "output_type": "execute_result",
          "data": {
            "text/plain": [
              "set"
            ]
          },
          "metadata": {},
          "execution_count": 336
        }
      ]
    },
    {
      "cell_type": "code",
      "source": [
        "!pip install PyStemmer\n"
      ],
      "metadata": {
        "id": "84w8DBARYmBm",
        "outputId": "693a6a2f-1a37-4f0a-f89c-c18098f6309e",
        "colab": {
          "base_uri": "https://localhost:8080/"
        }
      },
      "execution_count": null,
      "outputs": [
        {
          "output_type": "stream",
          "name": "stdout",
          "text": [
            "Requirement already satisfied: PyStemmer in /usr/local/lib/python3.10/dist-packages (2.2.0.1)\n"
          ]
        }
      ]
    },
    {
      "cell_type": "code",
      "source": [
        "lancaster=LancasterStemmer()\n",
        "s1_df=[lancaster.stem(t) for t in s1stop]\n",
        "s2_df=[lancaster.stem(t) for t in s2stop]"
      ],
      "metadata": {
        "id": "XslD50C5YDqr"
      },
      "execution_count": null,
      "outputs": []
    },
    {
      "cell_type": "code",
      "source": [
        "s1_df=set(s1_df)\n",
        "s2_df=set(s2_df)"
      ],
      "metadata": {
        "id": "5nuthI0YYV_s"
      },
      "execution_count": null,
      "outputs": []
    },
    {
      "cell_type": "code",
      "source": [
        "s1_df"
      ],
      "metadata": {
        "colab": {
          "base_uri": "https://localhost:8080/"
        },
        "id": "dDdms2zVj1uL",
        "outputId": "64203131-3c35-4f9e-a015-66cf4d07a638"
      },
      "execution_count": null,
      "outputs": [
        {
          "output_type": "execute_result",
          "data": {
            "text/plain": [
              "{'academ',\n",
              " 'alway',\n",
              " 'attribut',\n",
              " 'avoid',\n",
              " 'cit',\n",
              " 'consequ',\n",
              " 'constitut',\n",
              " 'cred',\n",
              " 'credit',\n",
              " 'cruc',\n",
              " 'els',\n",
              " 'ess',\n",
              " 'giv',\n",
              " 'idea',\n",
              " 'integr',\n",
              " 'it',\n",
              " 'maintain',\n",
              " 'occ',\n",
              " 'offens',\n",
              " 'origin',\n",
              " 'person',\n",
              " 'plagi',\n",
              " 'produc',\n",
              " 'prop',\n",
              " 'ref',\n",
              " 'result',\n",
              " 'sery',\n",
              " 'sev',\n",
              " 'someon',\n",
              " 'sourc',\n",
              " 'strive',\n",
              " 'stud',\n",
              " 'to',\n",
              " 'understand',\n",
              " 'us',\n",
              " 'without',\n",
              " 'word',\n",
              " 'work'}"
            ]
          },
          "metadata": {},
          "execution_count": 340
        }
      ]
    },
    {
      "cell_type": "code",
      "source": [
        "s2_df"
      ],
      "metadata": {
        "colab": {
          "base_uri": "https://localhost:8080/"
        },
        "id": "uKt3bo5Xj9wD",
        "outputId": "024fddeb-2d7d-40c5-b538-00f382e7c0b1"
      },
      "execution_count": null,
      "outputs": [
        {
          "output_type": "execute_result",
          "data": {
            "text/plain": [
              "{'academ',\n",
              " 'acknowledg',\n",
              " 'anoth',\n",
              " 'appropry',\n",
              " 'ar',\n",
              " 'attribut',\n",
              " 'auth',\n",
              " 'circumv',\n",
              " 'cit',\n",
              " 'clear',\n",
              " 'conceiv',\n",
              " 'consist',\n",
              " 'constitut',\n",
              " 'cont',\n",
              " 'cornerston',\n",
              " 'cre',\n",
              " 'duly',\n",
              " 'educ',\n",
              " 'endeav',\n",
              " 'funda',\n",
              " 'grasp',\n",
              " 'grav',\n",
              " 'imp',\n",
              " 'individ',\n",
              " 'integr',\n",
              " 'it',\n",
              " 'langu',\n",
              " 'lead',\n",
              " 'mean',\n",
              " 'must',\n",
              " 'origin',\n",
              " 'paramount',\n",
              " 'person',\n",
              " 'plagi',\n",
              " 'preserv',\n",
              " 'principl',\n",
              " 'ref',\n",
              " 'repercuss',\n",
              " 'requir',\n",
              " 'sidestep',\n",
              " 'sign',\n",
              " 'sourc',\n",
              " 'stand',\n",
              " 'stud',\n",
              " 'system',\n",
              " 'to',\n",
              " 'transgress',\n",
              " 'uphold',\n",
              " 'without',\n",
              " 'work'}"
            ]
          },
          "metadata": {},
          "execution_count": 341
        }
      ]
    },
    {
      "cell_type": "code",
      "source": [
        "l1=[]\n",
        "l2=[]"
      ],
      "metadata": {
        "id": "RjfeRwrSudg7"
      },
      "execution_count": null,
      "outputs": []
    },
    {
      "cell_type": "code",
      "source": [
        "rvector"
      ],
      "metadata": {
        "colab": {
          "base_uri": "https://localhost:8080/"
        },
        "id": "jcxPcL-0j6xk",
        "outputId": "d8db911d-508c-401f-ff88-e410e9e9b23b"
      },
      "execution_count": null,
      "outputs": [
        {
          "output_type": "execute_result",
          "data": {
            "text/plain": [
              "{'academ',\n",
              " 'acknowledg',\n",
              " 'alway',\n",
              " 'anoth',\n",
              " 'appropri',\n",
              " 'aris',\n",
              " 'attribut',\n",
              " 'authent',\n",
              " 'avoid',\n",
              " 'circumv',\n",
              " 'citat',\n",
              " 'clear',\n",
              " 'concept',\n",
              " 'consequ',\n",
              " 'consist',\n",
              " 'constitut',\n",
              " 'content',\n",
              " 'cornerston',\n",
              " 'creat',\n",
              " 'creation',\n",
              " 'credibl',\n",
              " 'credit',\n",
              " 'crucial',\n",
              " 'duli',\n",
              " 'educ',\n",
              " 'els',\n",
              " 'endeavor',\n",
              " 'essenti',\n",
              " 'fundament',\n",
              " 'give',\n",
              " 'grasp',\n",
              " 'grave',\n",
              " 'idea',\n",
              " 'imper',\n",
              " 'individu',\n",
              " 'integr',\n",
              " 'it',\n",
              " 'languag',\n",
              " 'lead',\n",
              " 'maintain',\n",
              " 'mean',\n",
              " 'must',\n",
              " 'occur',\n",
              " 'offens',\n",
              " 'origin',\n",
              " 'paramount',\n",
              " 'person',\n",
              " 'plagiar',\n",
              " 'preserv',\n",
              " 'principl',\n",
              " 'produc',\n",
              " 'proper',\n",
              " 'refer',\n",
              " 'repercuss',\n",
              " 'requir',\n",
              " 'result',\n",
              " 'seriou',\n",
              " 'sever',\n",
              " 'sidestep',\n",
              " 'signific',\n",
              " 'someon',\n",
              " 'sourc',\n",
              " 'stand',\n",
              " 'strive',\n",
              " 'student',\n",
              " 'system',\n",
              " 'to',\n",
              " 'transgress',\n",
              " 'understand',\n",
              " 'uphold',\n",
              " 'use',\n",
              " 'without',\n",
              " 'word',\n",
              " 'work'}"
            ]
          },
          "metadata": {},
          "execution_count": 343
        }
      ]
    },
    {
      "cell_type": "code",
      "source": [
        "rvector=s1_df.union(s2_df)\n",
        "for w in rvector:\n",
        "  if w in s1_df: l1.append(1)\n",
        "  else: l1.append(0)\n",
        "  if w in s2_df: l2.append(1)\n",
        "  else: l2.append(0)\n",
        "c=0"
      ],
      "metadata": {
        "id": "smOFqbA7uuAT"
      },
      "execution_count": null,
      "outputs": []
    },
    {
      "cell_type": "code",
      "source": [
        "l1"
      ],
      "metadata": {
        "id": "QASrcVHIpQuJ",
        "colab": {
          "base_uri": "https://localhost:8080/"
        },
        "outputId": "50405c65-00f8-4322-a6af-003730350e4c"
      },
      "execution_count": null,
      "outputs": [
        {
          "output_type": "execute_result",
          "data": {
            "text/plain": [
              "[1,\n",
              " 1,\n",
              " 0,\n",
              " 0,\n",
              " 1,\n",
              " 0,\n",
              " 1,\n",
              " 0,\n",
              " 1,\n",
              " 0,\n",
              " 1,\n",
              " 0,\n",
              " 1,\n",
              " 0,\n",
              " 1,\n",
              " 0,\n",
              " 0,\n",
              " 0,\n",
              " 1,\n",
              " 1,\n",
              " 1,\n",
              " 1,\n",
              " 0,\n",
              " 0,\n",
              " 1,\n",
              " 1,\n",
              " 0,\n",
              " 1,\n",
              " 0,\n",
              " 0,\n",
              " 1,\n",
              " 0,\n",
              " 1,\n",
              " 0,\n",
              " 1,\n",
              " 1,\n",
              " 0,\n",
              " 1,\n",
              " 1,\n",
              " 0,\n",
              " 0,\n",
              " 1,\n",
              " 0,\n",
              " 1,\n",
              " 0,\n",
              " 0,\n",
              " 1,\n",
              " 0,\n",
              " 1,\n",
              " 1,\n",
              " 1,\n",
              " 1,\n",
              " 0,\n",
              " 0,\n",
              " 0,\n",
              " 1,\n",
              " 0,\n",
              " 0,\n",
              " 1,\n",
              " 1,\n",
              " 0,\n",
              " 1,\n",
              " 1,\n",
              " 1,\n",
              " 1,\n",
              " 1,\n",
              " 1,\n",
              " 0,\n",
              " 0,\n",
              " 0,\n",
              " 0,\n",
              " 1,\n",
              " 0]"
            ]
          },
          "metadata": {},
          "execution_count": 345
        }
      ]
    },
    {
      "cell_type": "code",
      "source": [
        "l2"
      ],
      "metadata": {
        "id": "CAzbwBE-pbKV",
        "colab": {
          "base_uri": "https://localhost:8080/"
        },
        "outputId": "c81a4712-e4c9-455b-b4de-492dd507e093"
      },
      "execution_count": null,
      "outputs": [
        {
          "output_type": "execute_result",
          "data": {
            "text/plain": [
              "[0,\n",
              " 0,\n",
              " 1,\n",
              " 1,\n",
              " 1,\n",
              " 1,\n",
              " 1,\n",
              " 1,\n",
              " 0,\n",
              " 1,\n",
              " 0,\n",
              " 1,\n",
              " 1,\n",
              " 1,\n",
              " 1,\n",
              " 1,\n",
              " 1,\n",
              " 1,\n",
              " 0,\n",
              " 1,\n",
              " 0,\n",
              " 1,\n",
              " 1,\n",
              " 1,\n",
              " 0,\n",
              " 1,\n",
              " 1,\n",
              " 0,\n",
              " 1,\n",
              " 1,\n",
              " 0,\n",
              " 1,\n",
              " 0,\n",
              " 1,\n",
              " 0,\n",
              " 0,\n",
              " 1,\n",
              " 0,\n",
              " 0,\n",
              " 1,\n",
              " 1,\n",
              " 1,\n",
              " 1,\n",
              " 1,\n",
              " 1,\n",
              " 1,\n",
              " 0,\n",
              " 1,\n",
              " 0,\n",
              " 0,\n",
              " 1,\n",
              " 1,\n",
              " 1,\n",
              " 1,\n",
              " 1,\n",
              " 0,\n",
              " 1,\n",
              " 1,\n",
              " 1,\n",
              " 1,\n",
              " 1,\n",
              " 0,\n",
              " 0,\n",
              " 1,\n",
              " 1,\n",
              " 0,\n",
              " 0,\n",
              " 1,\n",
              " 1,\n",
              " 1,\n",
              " 1,\n",
              " 0,\n",
              " 1]"
            ]
          },
          "metadata": {},
          "execution_count": 346
        }
      ]
    },
    {
      "cell_type": "code",
      "source": [
        "rvector"
      ],
      "metadata": {
        "id": "uV9KM_0apprB",
        "colab": {
          "base_uri": "https://localhost:8080/"
        },
        "outputId": "fea97c66-e54b-4243-d7ed-a03f95eb2924"
      },
      "execution_count": null,
      "outputs": [
        {
          "output_type": "execute_result",
          "data": {
            "text/plain": [
              "{'academ',\n",
              " 'acknowledg',\n",
              " 'alway',\n",
              " 'anoth',\n",
              " 'appropry',\n",
              " 'ar',\n",
              " 'attribut',\n",
              " 'auth',\n",
              " 'avoid',\n",
              " 'circumv',\n",
              " 'cit',\n",
              " 'clear',\n",
              " 'conceiv',\n",
              " 'consequ',\n",
              " 'consist',\n",
              " 'constitut',\n",
              " 'cont',\n",
              " 'cornerston',\n",
              " 'cre',\n",
              " 'cred',\n",
              " 'credit',\n",
              " 'cruc',\n",
              " 'duly',\n",
              " 'educ',\n",
              " 'els',\n",
              " 'endeav',\n",
              " 'ess',\n",
              " 'funda',\n",
              " 'giv',\n",
              " 'grasp',\n",
              " 'grav',\n",
              " 'idea',\n",
              " 'imp',\n",
              " 'individ',\n",
              " 'integr',\n",
              " 'it',\n",
              " 'langu',\n",
              " 'lead',\n",
              " 'maintain',\n",
              " 'mean',\n",
              " 'must',\n",
              " 'occ',\n",
              " 'offens',\n",
              " 'origin',\n",
              " 'paramount',\n",
              " 'person',\n",
              " 'plagi',\n",
              " 'preserv',\n",
              " 'principl',\n",
              " 'produc',\n",
              " 'prop',\n",
              " 'ref',\n",
              " 'repercuss',\n",
              " 'requir',\n",
              " 'result',\n",
              " 'sery',\n",
              " 'sev',\n",
              " 'sidestep',\n",
              " 'sign',\n",
              " 'someon',\n",
              " 'sourc',\n",
              " 'stand',\n",
              " 'strive',\n",
              " 'stud',\n",
              " 'system',\n",
              " 'to',\n",
              " 'transgress',\n",
              " 'understand',\n",
              " 'uphold',\n",
              " 'us',\n",
              " 'without',\n",
              " 'word',\n",
              " 'work'}"
            ]
          },
          "metadata": {},
          "execution_count": 347
        }
      ]
    },
    {
      "cell_type": "code",
      "source": [
        "#Cosine similarity variation\n",
        "for i in range(len(rvector)):\n",
        "  c+=l1[i]*l2[i]\n",
        "  #print(c)\n",
        "cosine= c/float((sum(l1)*sum(l2))**0.5)\n",
        "print(\"similarity:\", cosine)"
      ],
      "metadata": {
        "id": "b9_fmNa_o2dK",
        "colab": {
          "base_uri": "https://localhost:8080/"
        },
        "outputId": "8fe5efda-f39e-4bd4-c587-658e9ee07e97"
      },
      "execution_count": null,
      "outputs": [
        {
          "output_type": "stream",
          "name": "stdout",
          "text": [
            "similarity: 0.34412360080584264\n"
          ]
        }
      ]
    },
    {
      "cell_type": "markdown",
      "source": [
        "#Snowball stemmer"
      ],
      "metadata": {
        "id": "tY9bvvSDkQNU"
      }
    },
    {
      "cell_type": "code",
      "source": [
        "from nltk.stem.snowball import SnowballStemmer\n",
        "snowball=SnowballStemmer('english')\n",
        "s1_df=[snowball.stem(t) for t in s1stop]\n",
        "s2_df=[snowball.stem(t) for t in s2stop]\n",
        "s1_df=set(s1_df)\n",
        "s2_df=set(s2_df)"
      ],
      "metadata": {
        "id": "VhIyvJTRjw57"
      },
      "execution_count": null,
      "outputs": []
    },
    {
      "cell_type": "code",
      "source": [
        "rvector=s1_df.union(s2_df)\n",
        "for w in rvector:\n",
        "  if w in s1_df: l1.append(1)\n",
        "  else: l1.append(0)\n",
        "  if w in s2_df: l2.append(1)\n",
        "  else: l2.append(0)\n",
        "c=0"
      ],
      "metadata": {
        "id": "E8j9w0Gsjoc6"
      },
      "execution_count": null,
      "outputs": []
    },
    {
      "cell_type": "code",
      "source": [
        "#Cosine similarity variation\n",
        "for i in range(len(rvector)):\n",
        "  c+=l1[i]*l2[i]\n",
        "  #print(c)\n",
        "cosine= c/float((sum(l1)*sum(l2))**0.5)\n",
        "print(\"similarity:\", cosine)"
      ],
      "metadata": {
        "colab": {
          "base_uri": "https://localhost:8080/"
        },
        "id": "PcgDz9HBk5BE",
        "outputId": "4ef10ecb-5cb0-41e3-a3d1-23d748487b21"
      },
      "execution_count": null,
      "outputs": [
        {
          "output_type": "stream",
          "name": "stdout",
          "text": [
            "similarity: 0.1712078904153948\n"
          ]
        }
      ]
    },
    {
      "cell_type": "markdown",
      "source": [
        "#Porter Stemmer\n"
      ],
      "metadata": {
        "id": "I2KPQIjxlIe1"
      }
    },
    {
      "cell_type": "code",
      "source": [
        "from nltk.stem.porter import PorterStemmer\n",
        "porter=PorterStemmer()\n",
        "s1_df=[porter.stem(t) for t in s1stop]\n",
        "s2_df=[porter.stem(t) for t in s2stop]\n",
        "s1_df=set(s1_df)\n",
        "s2_df=set(s2_df)"
      ],
      "metadata": {
        "id": "0aOFHRwKlLNM"
      },
      "execution_count": null,
      "outputs": []
    },
    {
      "cell_type": "code",
      "source": [
        "rvector=s1_df.union(s2_df)\n",
        "for w in rvector:\n",
        "  if w in s1_df: l1.append(1)\n",
        "  else: l1.append(0)\n",
        "  if w in s2_df: l2.append(1)\n",
        "  else: l2.append(0)\n",
        "c=0"
      ],
      "metadata": {
        "id": "FLqAsAYtlVlM"
      },
      "execution_count": null,
      "outputs": []
    },
    {
      "cell_type": "code",
      "source": [
        "#Cosine similarity variation\n",
        "for i in range(len(rvector)):\n",
        "  c+=l1[i]*l2[i]\n",
        "  #print(c)\n",
        "cosine= c/float((sum(l1)*sum(l2))**0.5)\n",
        "print(\"similarity:\", cosine)"
      ],
      "metadata": {
        "colab": {
          "base_uri": "https://localhost:8080/"
        },
        "id": "G7ZVdeVHlXgE",
        "outputId": "a57a2b60-f698-4aa1-be10-0e32004d49e6"
      },
      "execution_count": null,
      "outputs": [
        {
          "output_type": "stream",
          "name": "stdout",
          "text": [
            "similarity: 0.11395071102426825\n"
          ]
        }
      ]
    }
  ]
}